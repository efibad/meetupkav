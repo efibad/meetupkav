{
 "cells": [
  {
   "cell_type": "markdown",
   "metadata": {},
   "source": [
    "# Εισαγωγή στη Μηχανική Μάθηση με Jupyter & Scikit Learn"
   ]
  },
  {
   "cell_type": "markdown",
   "metadata": {},
   "source": [
    "## Εγκατάσταση Python - Scikit-learn σε υπολογιστή"
   ]
  },
  {
   "cell_type": "markdown",
   "metadata": {},
   "source": [
    "-**Τρόπος 1 :** [Εγκατάσταση Python](https://www.python.org/downloads/) \n",
    "\n",
    "  - **Βήμα 1:** [Εγκατάσταση Jupyter](https://jupyter.org/install)\n",
    "\n",
    "  - **Βήμα 2 :** [Εγκατάσταση βιβλιοθήκης scikit-learn](http://scikit-learn.org/stable/install.html) μαζί με άλλα πακέτα (**NumPy** και **SciPy**)\n",
    "\n",
    "\n",
    "-**Τρόπος 2:** [Εγκατάσταση Anaconda distribution](https://www.anaconda.com/download/) της Python, όπου περιέχει:\n",
    "\n",
    "- Χρήσιμα πακέτα (including **scikit-learn**)\n",
    "- **IPython** και **Jupyter Notebook**\n",
    "- conda package manager\n",
    "- Spyder IDE"
   ]
  },
  {
   "cell_type": "markdown",
   "metadata": {},
   "source": [
    "### Εκκίνηση του Notebook:\n",
    "\n",
    "- Γράφουμε **jupyter notebook** στην γραμμή εντολών (command line), στον επιθυμητό φάκελο για να ανοίξει το περιβάλον του jupyter στον default Browser\n",
    "- Δεν κλείνουμε τη γραμμή εντολών όσο είναι ανοιχτό το jupyter"
   ]
  },
  {
   "cell_type": "markdown",
   "metadata": {},
   "source": [
    "## 1. Εισαγωγή στο Jupyter"
   ]
  },
  {
   "cell_type": "markdown",
   "metadata": {},
   "source": [
    "![jupyter](images/blank-notebook-ui.png)\n",
    "Πηγή: [The Jupyter Notebook](https://jupyter-notebook.readthedocs.io/en/stable/notebook.html) (Notebook user interface)"
   ]
  },
  {
   "cell_type": "markdown",
   "metadata": {},
   "source": [
    "- Για να τρέξει ο κώδικας, επιλέγουμε το κελί και πατάμε **shift+enter**  ή επιλέγουμε το κελί και πατάμε από το toolbar το κουμπί **Run**"
   ]
  },
  {
   "cell_type": "markdown",
   "metadata": {},
   "source": [
    "![keys](images/shiftenter.png)"
   ]
  },
  {
   "cell_type": "markdown",
   "metadata": {},
   "source": [
    "- Για να χρησιμοποιήσουμε συντομέυσεις πλήκτρων  στο **command mode**  για ενεργειες στο περιβάλλον του jupyter, πατάμε **Esc** διαφορετικά, κάνουμε κλικ στο κουμπί command mode από το **toolbar**  για να επιλέξουμε από το **command palete**\n",
    "- Με το **Enter** μπαίνουμε στο **Edit mode**\n",
    "- Το κελί μπορεί να περιέχει κώδικα, κείμενο με μορφοποιήση, o ορισμός του γίνεται από το **toolbar**\n",
    "- Στο command mode με το **a***  δημιουργούμε ένα νέο κελί από πάνω, ενώ με το **b***  δημιουργούμε από κάτω. Με το **x***  κάνουμε αποκοπή το κελί."
   ]
  },
  {
   "cell_type": "markdown",
   "metadata": {},
   "source": [
    "- #### <font color='blue'>Τρέξτε το παρακάτω κελί </font> "
   ]
  },
  {
   "cell_type": "code",
   "execution_count": 1,
   "metadata": {},
   "outputs": [
    {
     "name": "stdout",
     "output_type": "stream",
     "text": [
      "Hello Jupyter!\n"
     ]
    }
   ],
   "source": [
    "print('Hello Jupyter!')"
   ]
  },
  {
   "cell_type": "markdown",
   "metadata": {},
   "source": [
    "## 2. Εισαγωγή στην εκπαίδευση μοντέλων μηχανικής μάθησης"
   ]
  },
  {
   "cell_type": "markdown",
   "metadata": {},
   "source": [
    "##### Τι θα δούμε: \n",
    " **1.** Εγκατάσταση Scikit Learn\n",
    " \n",
    " **2.** Πως εισάγουμε ένα **dataset** από το **Scikit learn**\n",
    " \n",
    " **3.** Τα 4 βήματα του **modeling pattern** από το **Scikit learn** \n",
    " \n",
    " **4.** **Αξιολόγηση μοντέλου** μηχανικής μάθησης\n",
    " \n",
    " **5.** **Cross-Validation**\n",
    " \n",
    " **6.** **Ευρεση παραμέτρων** για το μοντέλο μηχανικής μάθησης"
   ]
  },
  {
   "cell_type": "markdown",
   "metadata": {},
   "source": [
    "### 2.1 Εγκατάσταση Scikit-Learn"
   ]
  },
  {
   "cell_type": "markdown",
   "metadata": {},
   "source": [
    "- #### <font color='blue'>Τρέξτε το παρακάτω κελί για να γίνει η εγκατάσταση του Sklearn </font> "
   ]
  },
  {
   "cell_type": "code",
   "execution_count": null,
   "metadata": {},
   "outputs": [],
   "source": [
    "!pip install sklearn"
   ]
  },
  {
   "cell_type": "markdown",
   "metadata": {},
   "source": [
    "### 2.2 Εισαγωγή του Dataset\n",
    "\n",
    "- Ιστοσελιδα που έχει έτοιμα Dataset [UC Irvine Machine Learning Repository](https://archive.ics.uci.edu/ml/index.php) \n",
    "\n",
    "- Documentation για την εισαγωγή Dataset από Scikit-Learn [Dataset loading utilities- Scikit Learn](https://scikit-learn.org/stable/datasets/index.html) \n"
   ]
  },
  {
   "cell_type": "code",
   "execution_count": 2,
   "metadata": {},
   "outputs": [
    {
     "name": "stdout",
     "output_type": "stream",
     "text": [
      "(150, 4)\n",
      "(150,)\n"
     ]
    }
   ],
   "source": [
    "# εισαγωγή του dataset από το module datasets\n",
    "from sklearn.datasets import load_iris\n",
    "\n",
    "# αποθήκευση \"bunch\" αντικειμένου που περιέχει το dataset και τα χαρακτηριστικά  του\n",
    "iris = load_iris()\n",
    "\n",
    "# αποθήκευση πίνακα χαρακτηριστικών \"X\"\n",
    "X = iris.data\n",
    "\n",
    "# αποθήκευση πίνακα των αντίστοιχων κλάσεων \"y\"\n",
    "y = iris.target\n",
    "# Εκύπωση των σχημάτων του  X και y\n",
    "print(X.shape)\n",
    "print(y.shape)"
   ]
  },
  {
   "cell_type": "markdown",
   "metadata": {},
   "source": [
    "#### Απαιτησεις δεδομένων για τη χρήση scikit-learn\n",
    " Τα χαρακτηριστικά και αποκρίσεις πρέπει να είναι:\n",
    "1. Χωριστά αντικείμενα\n",
    "2. Νumeric\n",
    "3. NumPy arrays\n",
    "4. Συγκεκριμένα σχήματα"
   ]
  },
  {
   "cell_type": "markdown",
   "metadata": {},
   "source": [
    "- <font color='blue'>Εκτύπωστε το **X** </font> "
   ]
  },
  {
   "cell_type": "code",
   "execution_count": 3,
   "metadata": {},
   "outputs": [
    {
     "name": "stdout",
     "output_type": "stream",
     "text": [
      "[[5.1 3.5 1.4 0.2]\n",
      " [4.9 3.  1.4 0.2]\n",
      " [4.7 3.2 1.3 0.2]\n",
      " [4.6 3.1 1.5 0.2]\n",
      " [5.  3.6 1.4 0.2]\n",
      " [5.4 3.9 1.7 0.4]\n",
      " [4.6 3.4 1.4 0.3]\n",
      " [5.  3.4 1.5 0.2]\n",
      " [4.4 2.9 1.4 0.2]\n",
      " [4.9 3.1 1.5 0.1]\n",
      " [5.4 3.7 1.5 0.2]\n",
      " [4.8 3.4 1.6 0.2]\n",
      " [4.8 3.  1.4 0.1]\n",
      " [4.3 3.  1.1 0.1]\n",
      " [5.8 4.  1.2 0.2]\n",
      " [5.7 4.4 1.5 0.4]\n",
      " [5.4 3.9 1.3 0.4]\n",
      " [5.1 3.5 1.4 0.3]\n",
      " [5.7 3.8 1.7 0.3]\n",
      " [5.1 3.8 1.5 0.3]\n",
      " [5.4 3.4 1.7 0.2]\n",
      " [5.1 3.7 1.5 0.4]\n",
      " [4.6 3.6 1.  0.2]\n",
      " [5.1 3.3 1.7 0.5]\n",
      " [4.8 3.4 1.9 0.2]\n",
      " [5.  3.  1.6 0.2]\n",
      " [5.  3.4 1.6 0.4]\n",
      " [5.2 3.5 1.5 0.2]\n",
      " [5.2 3.4 1.4 0.2]\n",
      " [4.7 3.2 1.6 0.2]\n",
      " [4.8 3.1 1.6 0.2]\n",
      " [5.4 3.4 1.5 0.4]\n",
      " [5.2 4.1 1.5 0.1]\n",
      " [5.5 4.2 1.4 0.2]\n",
      " [4.9 3.1 1.5 0.2]\n",
      " [5.  3.2 1.2 0.2]\n",
      " [5.5 3.5 1.3 0.2]\n",
      " [4.9 3.6 1.4 0.1]\n",
      " [4.4 3.  1.3 0.2]\n",
      " [5.1 3.4 1.5 0.2]\n",
      " [5.  3.5 1.3 0.3]\n",
      " [4.5 2.3 1.3 0.3]\n",
      " [4.4 3.2 1.3 0.2]\n",
      " [5.  3.5 1.6 0.6]\n",
      " [5.1 3.8 1.9 0.4]\n",
      " [4.8 3.  1.4 0.3]\n",
      " [5.1 3.8 1.6 0.2]\n",
      " [4.6 3.2 1.4 0.2]\n",
      " [5.3 3.7 1.5 0.2]\n",
      " [5.  3.3 1.4 0.2]\n",
      " [7.  3.2 4.7 1.4]\n",
      " [6.4 3.2 4.5 1.5]\n",
      " [6.9 3.1 4.9 1.5]\n",
      " [5.5 2.3 4.  1.3]\n",
      " [6.5 2.8 4.6 1.5]\n",
      " [5.7 2.8 4.5 1.3]\n",
      " [6.3 3.3 4.7 1.6]\n",
      " [4.9 2.4 3.3 1. ]\n",
      " [6.6 2.9 4.6 1.3]\n",
      " [5.2 2.7 3.9 1.4]\n",
      " [5.  2.  3.5 1. ]\n",
      " [5.9 3.  4.2 1.5]\n",
      " [6.  2.2 4.  1. ]\n",
      " [6.1 2.9 4.7 1.4]\n",
      " [5.6 2.9 3.6 1.3]\n",
      " [6.7 3.1 4.4 1.4]\n",
      " [5.6 3.  4.5 1.5]\n",
      " [5.8 2.7 4.1 1. ]\n",
      " [6.2 2.2 4.5 1.5]\n",
      " [5.6 2.5 3.9 1.1]\n",
      " [5.9 3.2 4.8 1.8]\n",
      " [6.1 2.8 4.  1.3]\n",
      " [6.3 2.5 4.9 1.5]\n",
      " [6.1 2.8 4.7 1.2]\n",
      " [6.4 2.9 4.3 1.3]\n",
      " [6.6 3.  4.4 1.4]\n",
      " [6.8 2.8 4.8 1.4]\n",
      " [6.7 3.  5.  1.7]\n",
      " [6.  2.9 4.5 1.5]\n",
      " [5.7 2.6 3.5 1. ]\n",
      " [5.5 2.4 3.8 1.1]\n",
      " [5.5 2.4 3.7 1. ]\n",
      " [5.8 2.7 3.9 1.2]\n",
      " [6.  2.7 5.1 1.6]\n",
      " [5.4 3.  4.5 1.5]\n",
      " [6.  3.4 4.5 1.6]\n",
      " [6.7 3.1 4.7 1.5]\n",
      " [6.3 2.3 4.4 1.3]\n",
      " [5.6 3.  4.1 1.3]\n",
      " [5.5 2.5 4.  1.3]\n",
      " [5.5 2.6 4.4 1.2]\n",
      " [6.1 3.  4.6 1.4]\n",
      " [5.8 2.6 4.  1.2]\n",
      " [5.  2.3 3.3 1. ]\n",
      " [5.6 2.7 4.2 1.3]\n",
      " [5.7 3.  4.2 1.2]\n",
      " [5.7 2.9 4.2 1.3]\n",
      " [6.2 2.9 4.3 1.3]\n",
      " [5.1 2.5 3.  1.1]\n",
      " [5.7 2.8 4.1 1.3]\n",
      " [6.3 3.3 6.  2.5]\n",
      " [5.8 2.7 5.1 1.9]\n",
      " [7.1 3.  5.9 2.1]\n",
      " [6.3 2.9 5.6 1.8]\n",
      " [6.5 3.  5.8 2.2]\n",
      " [7.6 3.  6.6 2.1]\n",
      " [4.9 2.5 4.5 1.7]\n",
      " [7.3 2.9 6.3 1.8]\n",
      " [6.7 2.5 5.8 1.8]\n",
      " [7.2 3.6 6.1 2.5]\n",
      " [6.5 3.2 5.1 2. ]\n",
      " [6.4 2.7 5.3 1.9]\n",
      " [6.8 3.  5.5 2.1]\n",
      " [5.7 2.5 5.  2. ]\n",
      " [5.8 2.8 5.1 2.4]\n",
      " [6.4 3.2 5.3 2.3]\n",
      " [6.5 3.  5.5 1.8]\n",
      " [7.7 3.8 6.7 2.2]\n",
      " [7.7 2.6 6.9 2.3]\n",
      " [6.  2.2 5.  1.5]\n",
      " [6.9 3.2 5.7 2.3]\n",
      " [5.6 2.8 4.9 2. ]\n",
      " [7.7 2.8 6.7 2. ]\n",
      " [6.3 2.7 4.9 1.8]\n",
      " [6.7 3.3 5.7 2.1]\n",
      " [7.2 3.2 6.  1.8]\n",
      " [6.2 2.8 4.8 1.8]\n",
      " [6.1 3.  4.9 1.8]\n",
      " [6.4 2.8 5.6 2.1]\n",
      " [7.2 3.  5.8 1.6]\n",
      " [7.4 2.8 6.1 1.9]\n",
      " [7.9 3.8 6.4 2. ]\n",
      " [6.4 2.8 5.6 2.2]\n",
      " [6.3 2.8 5.1 1.5]\n",
      " [6.1 2.6 5.6 1.4]\n",
      " [7.7 3.  6.1 2.3]\n",
      " [6.3 3.4 5.6 2.4]\n",
      " [6.4 3.1 5.5 1.8]\n",
      " [6.  3.  4.8 1.8]\n",
      " [6.9 3.1 5.4 2.1]\n",
      " [6.7 3.1 5.6 2.4]\n",
      " [6.9 3.1 5.1 2.3]\n",
      " [5.8 2.7 5.1 1.9]\n",
      " [6.8 3.2 5.9 2.3]\n",
      " [6.7 3.3 5.7 2.5]\n",
      " [6.7 3.  5.2 2.3]\n",
      " [6.3 2.5 5.  1.9]\n",
      " [6.5 3.  5.2 2. ]\n",
      " [6.2 3.4 5.4 2.3]\n",
      " [5.9 3.  5.1 1.8]]\n"
     ]
    }
   ],
   "source": [
    "#Εδώ γράφουμε την εντολή για να εμφανιστεί το Χ\n",
    "print(X)"
   ]
  },
  {
   "cell_type": "markdown",
   "metadata": {},
   "source": [
    "### X:\n",
    "\n",
    "- Η κάθε γραμή, είναι μια **παρατήρηση** (αναφέρεται επίσης ως : **παράδειγμα** (example,instance), **δείγμα** (sample), **εγγραφή** (record))\n",
    "- Η κάθε στήλη είναι **χαρακτηριστικό** (αναφέρεται επίσης ως : predictor, **γνώρισμα** (attribute), **ανεξάρτητη μεταβλητή** (independent variable), **είσοδος** (input), regressor, **μεταβλητή** (covariate))"
   ]
  },
  {
   "cell_type": "markdown",
   "metadata": {},
   "source": [
    "- <font color='blue'>Εκτύπωστε το **y** </font> "
   ]
  },
  {
   "cell_type": "code",
   "execution_count": 4,
   "metadata": {},
   "outputs": [
    {
     "name": "stdout",
     "output_type": "stream",
     "text": [
      "[0 0 0 0 0 0 0 0 0 0 0 0 0 0 0 0 0 0 0 0 0 0 0 0 0 0 0 0 0 0 0 0 0 0 0 0 0\n",
      " 0 0 0 0 0 0 0 0 0 0 0 0 0 1 1 1 1 1 1 1 1 1 1 1 1 1 1 1 1 1 1 1 1 1 1 1 1\n",
      " 1 1 1 1 1 1 1 1 1 1 1 1 1 1 1 1 1 1 1 1 1 1 1 1 1 1 2 2 2 2 2 2 2 2 2 2 2\n",
      " 2 2 2 2 2 2 2 2 2 2 2 2 2 2 2 2 2 2 2 2 2 2 2 2 2 2 2 2 2 2 2 2 2 2 2 2 2\n",
      " 2 2]\n"
     ]
    }
   ],
   "source": [
    "#Εδώ γράφουμε την εντολή για να εμφανιστεί το y\n",
    "print(y)\n"
   ]
  },
  {
   "cell_type": "markdown",
   "metadata": {},
   "source": [
    "### y:\n",
    "- Η κάθε τιμή που προβλέπουμε ονομάζεται **απόκριση** (response, αναφέρεται επίσης ως: **στόχος** (target), **αποτέλεσμα** (outcome), **ετικέτα** (label), **εξαρτημένη μεταβλητή** (dependent variable) )\n",
    "- Έχουμε **Ταξινόμηση** (Classification) όταν η απόκριση είναι κατηγορία\n",
    "- Έχουμε **Regression** όταν η απόκριση είναι προκαθορισμένη και συνεχής\n",
    "\n",
    "\n"
   ]
  },
  {
   "cell_type": "markdown",
   "metadata": {},
   "source": [
    "### 2.3  Scikit-learn : 4-Step Modeling Pattern\n"
   ]
  },
  {
   "cell_type": "markdown",
   "metadata": {},
   "source": [
    "**Βήμα 1:** Εισαγωγή του μοντέλου που θέλουμε να χρησιμοποιήσουμε."
   ]
  },
  {
   "cell_type": "markdown",
   "metadata": {},
   "source": [
    "Έστω ότι επιλέγουμε **k-NN**.\n",
    "Μέσα από το documentation [sklearn.neighbors.KNeighborsClassifier]( https://scikit-learn.org/stable/modules/generated/sklearn.neighbors.KNeighborsClassifier.html) βρίσκουμε ένα παράδειγμα κώδικα και αντιγράφουμε το κομάτι που γίνεται η εισαγωγή του μοντέλου. Κάνουμε επικόληση στο κελί και το τρέχουμε."
   ]
  },
  {
   "cell_type": "code",
   "execution_count": 7,
   "metadata": {},
   "outputs": [],
   "source": [
    "#Εισαγωγή μοντελου\n",
    "from sklearn.neighbors import KNeighborsClassifier"
   ]
  },
  {
   "cell_type": "markdown",
   "metadata": {},
   "source": [
    "Στο **sklearn**, όλα τα μοντέλα μηχανικής μάθησης εφαρμόζονται ως Python κλάσεις."
   ]
  },
  {
   "cell_type": "markdown",
   "metadata": {},
   "source": [
    "**Βήμα 2:** \"Instantiate\" the \"estimator\"\n",
    "\n",
    "\"Estimator\" είναι όρος  scikit-learn για μοντέλο.\n",
    "\"Instantiate\" σημαίνει \"δημιουργία παραδείγματος\""
   ]
  },
  {
   "cell_type": "code",
   "execution_count": 9,
   "metadata": {},
   "outputs": [],
   "source": [
    "#Δημιουργία ενός classifier \n",
    "clf=KNeighborsClassifier()"
   ]
  },
  {
   "cell_type": "markdown",
   "metadata": {},
   "source": [
    "- H ονομασία της μεταβλητής δε παίζει κάποιο ρόλο\n",
    "- Σε αυτό το βήμα μπορούν να οριστούν οι παράμετροι του μοντέλου\n",
    "- Όλες οι παράμετροι όταν δεν ορίζονται είναι στο default"
   ]
  },
  {
   "cell_type": "markdown",
   "metadata": {},
   "source": [
    "- <font color='blue'>Εκτύπωστε το **clf** </font> "
   ]
  },
  {
   "cell_type": "code",
   "execution_count": 10,
   "metadata": {},
   "outputs": [
    {
     "name": "stdout",
     "output_type": "stream",
     "text": [
      "KNeighborsClassifier(algorithm='auto', leaf_size=30, metric='minkowski',\n",
      "           metric_params=None, n_jobs=None, n_neighbors=5, p=2,\n",
      "           weights='uniform')\n"
     ]
    }
   ],
   "source": [
    "#Εδώ εκτυπώνεται η μορφή του clasifier\n",
    "print(clf)"
   ]
  },
  {
   "cell_type": "markdown",
   "metadata": {},
   "source": [
    "**Βήμα 3:** Εκπαίδευση του μοντέλου με δεδομένα.\n",
    "\n",
    "Το μοντέλο είναι μια σχέση μάθησης μεταξύ του X και y"
   ]
  },
  {
   "cell_type": "code",
   "execution_count": 11,
   "metadata": {},
   "outputs": [
    {
     "data": {
      "text/plain": [
       "KNeighborsClassifier(algorithm='auto', leaf_size=30, metric='minkowski',\n",
       "           metric_params=None, n_jobs=None, n_neighbors=5, p=2,\n",
       "           weights='uniform')"
      ]
     },
     "execution_count": 11,
     "metadata": {},
     "output_type": "execute_result"
    }
   ],
   "source": [
    "#Εκπαίδευση μοντέλου με δεδομένα X,y\n",
    "\n",
    "clf.fit(X,y)"
   ]
  },
  {
   "cell_type": "markdown",
   "metadata": {},
   "source": [
    "**Βήμα 4:** Πρόβλεψη της απόκρισης με νέα δεδομένα (παρατηρήσεις)\n",
    "\n",
    "Οι νέες παρατηρήσεις ονομάζονται \"εκτός δείγματος\" δεδομένα.\n",
    "\n",
    "Χρησιμοποιήται η πληροφορία μάθησης που έλαβε το μοντέλο κατά την εκπαίδευση"
   ]
  },
  {
   "cell_type": "markdown",
   "metadata": {},
   "source": [
    "- <font color='blue'>Εφαρμόστε μια προβλεψη με νέες παρατηρήσεις : [[3, 5, 4, 2]]</font>"
   ]
  },
  {
   "cell_type": "code",
   "execution_count": 12,
   "metadata": {},
   "outputs": [
    {
     "data": {
      "text/plain": [
       "array([1])"
      ]
     },
     "execution_count": 12,
     "metadata": {},
     "output_type": "execute_result"
    }
   ],
   "source": [
    "#Πρόβλεψη μοντέλου με τα νέα δεδομένα\n",
    "\n",
    "clf.predict([[3, 5, 4, 2]])"
   ]
  },
  {
   "cell_type": "markdown",
   "metadata": {},
   "source": [
    "Επιστρέφει έναν αριθμητικό πίνακα πρόβλεψης\n",
    "Μπορούν να γίνουν περισσότερες προβλέψεις με μια εκτέλεση"
   ]
  },
  {
   "cell_type": "markdown",
   "metadata": {},
   "source": [
    "- <font color='blue'>Εφαρμόστε μια προβλεψη με νέες παρατηρήσεις : X_new = [[3, 5, 4, 2], [5, 4, 3, 2]]</font>"
   ]
  },
  {
   "cell_type": "code",
   "execution_count": 13,
   "metadata": {},
   "outputs": [
    {
     "data": {
      "text/plain": [
       "array([1, 1])"
      ]
     },
     "execution_count": 13,
     "metadata": {},
     "output_type": "execute_result"
    }
   ],
   "source": [
    "#Πρόβλεψη μοντέλου με τα νέα δεδομένα\n",
    "X_new = [[3, 5, 4, 2], [5, 4, 3, 2]]\n",
    "clf.predict(X_new)\n"
   ]
  },
  {
   "cell_type": "markdown",
   "metadata": {},
   "source": [
    "#### 4-Step Modeling Pattern με SVM\n",
    "\n",
    "[sklearn.svm.SVC]( https://scikit-learn.org/stable/modules/generated/sklearn.svm.SVC.html)\n"
   ]
  },
  {
   "cell_type": "code",
   "execution_count": 14,
   "metadata": {},
   "outputs": [
    {
     "data": {
      "text/plain": [
       "array([2, 1])"
      ]
     },
     "execution_count": 14,
     "metadata": {},
     "output_type": "execute_result"
    }
   ],
   "source": [
    "#Εισαγωγή της κλάσης\n",
    "from sklearn.svm import SVC\n",
    "# Ορισμός μοντέλου (using the value )\n",
    "clf=SVC(gamma='auto')\n",
    "# Εκπαίδευση μοντέλου με Χ και y\n",
    "clf.fit(X,y)\n",
    "# Πρόβλεψη με τις τιμές Χ_new\n",
    "clf.predict(X_new)"
   ]
  },
  {
   "cell_type": "markdown",
   "metadata": {},
   "source": [
    "###### Τι συμπεράσματα βγάζουμε από τις προβλέψεις νέων παρατηρήσεων X_new του k-NN και του SVM ; "
   ]
  },
  {
   "cell_type": "markdown",
   "metadata": {},
   "source": [
    "### 2.4 Αξιολόγηση μοντέλου μηχανικής μάθησης"
   ]
  },
  {
   "cell_type": "markdown",
   "metadata": {},
   "source": [
    "![traintestsplit](images/traintestsplit.png)"
   ]
  },
  {
   "cell_type": "markdown",
   "metadata": {},
   "source": [
    "Αναγκαία είναι η χρήση της εντολής  [Train/Test/Split]( https://scikit-learn.org/stable/modules/generated/sklearn.model_selection.train_test_split.html) από sklearn:\n",
    "\n",
    "**1.** Διαχωρισμός σε 2 κομάτια του Dataset: ένα σετ εκπαίδευσης και ένα σετ δοκιμής.\n",
    "\n",
    "**2.** Εφαρμόζεται το σετ εκπαίδευσης στην εκπαίδευση\n",
    "\n",
    "**3.** Δοκιμή του μοντέλου στο σετ δοκιμής, και αξιολόγιση \n"
   ]
  },
  {
   "cell_type": "code",
   "execution_count": 16,
   "metadata": {},
   "outputs": [],
   "source": [
    "# Βήμα 1:  Σπάμε το X και y σε σετ εκπαίδευσης και δοκιμής\n",
    "#Εισαγωγή της κλάσης\n",
    "from sklearn.model_selection import train_test_split\n",
    "#Δημιουργία των Σετ εκπαίδευσης και δοκιμής\n",
    "X_train, X_test, y_train, y_test =train_test_split(X,y,test_size=0.33)"
   ]
  },
  {
   "cell_type": "code",
   "execution_count": 18,
   "metadata": {},
   "outputs": [
    {
     "name": "stdout",
     "output_type": "stream",
     "text": [
      "(100, 4)\n",
      "(50, 4)\n"
     ]
    }
   ],
   "source": [
    "# Εκτύπωση των μεγεθών Χ\n",
    "print(X_train.shape)\n",
    "print(X_test.shape)"
   ]
  },
  {
   "cell_type": "markdown",
   "metadata": {},
   "source": [
    "### 4-Step Modeling Pattern με Decision tree\n",
    "\n",
    "[Decision Trees](https://scikit-learn.org/stable/modules/tree.html)\n"
   ]
  },
  {
   "cell_type": "code",
   "execution_count": 20,
   "metadata": {},
   "outputs": [
    {
     "data": {
      "text/plain": [
       "DecisionTreeClassifier(class_weight=None, criterion='gini', max_depth=None,\n",
       "            max_features=None, max_leaf_nodes=None,\n",
       "            min_impurity_decrease=0.0, min_impurity_split=None,\n",
       "            min_samples_leaf=1, min_samples_split=2,\n",
       "            min_weight_fraction_leaf=0.0, presort=False, random_state=None,\n",
       "            splitter='best')"
      ]
     },
     "execution_count": 20,
     "metadata": {},
     "output_type": "execute_result"
    }
   ],
   "source": [
    "#Εισαγωγή της κλάσης \n",
    "from sklearn import tree\n",
    "# Βήμα 2: Εκπαίδευση του μοντέλου με το σετ εκπαίδευσης (X_train,y_train)\n",
    "#Δήλωση του clasifier\n",
    "clf=tree.DecisionTreeClassifier()\n",
    "#Εκπαίδευση\n",
    "clf.fit(X_train,y_train)"
   ]
  },
  {
   "cell_type": "code",
   "execution_count": 21,
   "metadata": {},
   "outputs": [],
   "source": [
    "# Βήμα 3: Πρόβλεψη στο σετ δοκιμής ()\n",
    "y_pred=clf.predict(X_test)"
   ]
  },
  {
   "cell_type": "markdown",
   "metadata": {},
   "source": [
    "Στην μεταβλητή **y_pred** έχουμε πλέον τις τιμές που έχει προβλέψει ο estimator για τις αντίστοιχες τιμές Χ-test. Με βάση τις αληθινές τιμές y_test μπορούμε να εφαρμόσουμε τις εντολές **classification metrics** από sklearn για την αξιολόγιση του μοντέλου  [Model evaluation: quantifying the quality of predictions]( https://scikit-learn.org/stable/modules/model_evaluation.html)"
   ]
  },
  {
   "cell_type": "code",
   "execution_count": 22,
   "metadata": {},
   "outputs": [],
   "source": [
    "# Εισαγωγή της κλάσης metrics\n",
    "from sklearn import metrics"
   ]
  },
  {
   "cell_type": "markdown",
   "metadata": {},
   "source": [
    "### [Accuracy = (tp+tn)/(tp+tn+fp+fn)](https://scikit-learn.org/stable/modules/generated/sklearn.metrics.accuracy_score.html)"
   ]
  },
  {
   "cell_type": "code",
   "execution_count": 23,
   "metadata": {},
   "outputs": [
    {
     "name": "stdout",
     "output_type": "stream",
     "text": [
      "0.94\n"
     ]
    }
   ],
   "source": [
    "# Υπολογισμός Accuracy\n",
    "print(metrics.accuracy_score(y_pred,y_test))"
   ]
  },
  {
   "cell_type": "markdown",
   "metadata": {},
   "source": [
    "### [Precision  = tp / (tp + fp)](https://scikit-learn.org/stable/modules/generated/sklearn.metrics.precision_score.html)"
   ]
  },
  {
   "cell_type": "code",
   "execution_count": 25,
   "metadata": {},
   "outputs": [
    {
     "name": "stdout",
     "output_type": "stream",
     "text": [
      "0.9407407407407407\n"
     ]
    }
   ],
   "source": [
    "# Υπολογισμός precision\n",
    "print(metrics.precision_score(y_pred,y_test, average='macro'))"
   ]
  },
  {
   "cell_type": "markdown",
   "metadata": {},
   "source": [
    "### [Recall= tp / (tp + fn)](https://scikit-learn.org/stable/modules/generated/sklearn.metrics.recall_score.html)"
   ]
  },
  {
   "cell_type": "code",
   "execution_count": 26,
   "metadata": {},
   "outputs": [
    {
     "name": "stdout",
     "output_type": "stream",
     "text": [
      "0.9387254901960785\n"
     ]
    }
   ],
   "source": [
    "# Υπολογισμός recall\n",
    "print(metrics.recall_score(y_pred,y_test, average='macro'))"
   ]
  },
  {
   "cell_type": "markdown",
   "metadata": {},
   "source": [
    "### [F-measure = 2 * (precision * recall) / (precision + recall)](https://scikit-learn.org/stable/modules/generated/sklearn.metrics.f1_score.html)"
   ]
  },
  {
   "cell_type": "code",
   "execution_count": 29,
   "metadata": {},
   "outputs": [
    {
     "name": "stdout",
     "output_type": "stream",
     "text": [
      "0.9401105990783409\n"
     ]
    }
   ],
   "source": [
    "# Υπολογισμός F-measure\n",
    "print(metrics.f1_score(y_test,y_pred, average='weighted'))"
   ]
  },
  {
   "cell_type": "markdown",
   "metadata": {},
   "source": [
    "### 2.5 Κ- Cross Validation\n",
    "\n",
    "[Cross-validation: evaluating estimator performance](https://scikit-learn.org/stable/modules/cross_validation.html)"
   ]
  },
  {
   "cell_type": "markdown",
   "metadata": {},
   "source": [
    "Τα βήματα για K-fold cross-validation\n",
    "\n",
    "1. Σπάει το Dataset σε ίσα K μέρη\n",
    "\n",
    "2. Το ένα μέρος χρησιμοποιήται σαν σετ δοκιμής και τα υπόλοιπα ως σετ εκπαίδευσης\n",
    ".\n",
    "3. Υπολογίζει την ακρίβεια δοκιμής\n",
    "\n",
    "4. Επαναλαμβάνει τα βήματα 2 και 3 Κ φορές, χρησιμοποιόντας διαφορετικό σετ δοκιμής κάθε φορά\n",
    "\n",
    "5. Χρησιμοποιεί το μέσο όρο ακρίβειας για να κάνει εκτίμιση δεδομένων εκτός δειγμάτων"
   ]
  },
  {
   "cell_type": "markdown",
   "metadata": {},
   "source": [
    "#### Απεικόνιση προσομοίωσης λειτουργίας ενός 5-Fold Validation 25 παρατηρήσεων"
   ]
  },
  {
   "cell_type": "code",
   "execution_count": 30,
   "metadata": {},
   "outputs": [
    {
     "name": "stdout",
     "output_type": "stream",
     "text": [
      "Iteration                   Training set observations                   Testing set observations\n",
      "    1     [ 5  6  7  8  9 10 11 12 13 14 15 16 17 18 19 20 21 22 23 24]        [0 1 2 3 4]       \n",
      "    2     [ 0  1  2  3  4 10 11 12 13 14 15 16 17 18 19 20 21 22 23 24]        [5 6 7 8 9]       \n",
      "    3     [ 0  1  2  3  4  5  6  7  8  9 15 16 17 18 19 20 21 22 23 24]     [10 11 12 13 14]     \n",
      "    4     [ 0  1  2  3  4  5  6  7  8  9 10 11 12 13 14 20 21 22 23 24]     [15 16 17 18 19]     \n",
      "    5     [ 0  1  2  3  4  5  6  7  8  9 10 11 12 13 14 15 16 17 18 19]     [20 21 22 23 24]     \n"
     ]
    }
   ],
   "source": [
    "from sklearn.model_selection import KFold\n",
    "kf = KFold(n_splits=5, shuffle=False).split(range(25))\n",
    "\n",
    "# print the contents of each training and testing set\n",
    "print('{} {:^61} {}'.format('Iteration', 'Training set observations', 'Testing set observations'))\n",
    "for iteration, data in enumerate(kf, start=1):\n",
    "    print('{:^9} {} {:^25}'.format(iteration, data[0], str(data[1])))"
   ]
  },
  {
   "cell_type": "markdown",
   "metadata": {},
   "source": [
    "- To Dataset περιέχει 25 παρατηρήσεις (από το 0 εως το 24)\n",
    "- 5-fold cross-validation σημαίνει ότι κάνει 5 επαναλήψεις\n",
    "- Για κάθε επανάληψη, κάθε παρατήρηση μπορεί να ανήκει στο σετ δοκιμής ή εκπαίδευσης, ποτέ και στα 2\n",
    "- Κάθε παρατήρηση είναι μέσα σε ένα τεστ δοκιμής τουλάχιστον μια φορά\n",
    "\n",
    "\n",
    "Το Κ-fold- cross-validation εκτιμά ένα βαθμό ακρίβειας για δεδομένα εκτός δείγματος και κάνει πιο αποτελεσματική χρήση των δεδομένων.\n",
    "\n"
   ]
  },
  {
   "cell_type": "markdown",
   "metadata": {},
   "source": [
    "- <font color='blue'>Εφαρμόστε 10-fold cross-validation </font>"
   ]
  },
  {
   "cell_type": "code",
   "execution_count": 33,
   "metadata": {},
   "outputs": [
    {
     "name": "stdout",
     "output_type": "stream",
     "text": [
      "0.9666666666666668\n"
     ]
    }
   ],
   "source": [
    "#Εισαγωγή του Κ-fold- cross-validation (Documentation) \n",
    "from sklearn.model_selection import cross_val_score\n",
    "\n",
    "#Δήλωση ενός k-nn με n_neighbors=5\n",
    "knn=KNeighborsClassifier(n_neighbors=5)\n",
    "\n",
    "#Αποθήκευση σε μεταβλητή scores το Κ-fold- cross-validation με επιλογή score το accuracy\n",
    "score=cross_val_score(knn,X,y, cv=10, scoring='accuracy')\n",
    "\n",
    "#Εκτύπωση των scores\n",
    "\n",
    "print(score.mean())"
   ]
  },
  {
   "cell_type": "markdown",
   "metadata": {},
   "source": [
    "### 2.6 Εύρεση παραμέτρων για το μοντέλο μηχανικής μάθησης"
   ]
  },
  {
   "cell_type": "markdown",
   "metadata": {},
   "source": [
    "#### Τρόπος 1"
   ]
  },
  {
   "cell_type": "markdown",
   "metadata": {},
   "source": [
    "Με cross-validation για κάθε παράμετρο του μοντέλου. Η παράμετρος επιλέγεται με βάση το καλύτερο score\n"
   ]
  },
  {
   "cell_type": "code",
   "execution_count": 34,
   "metadata": {},
   "outputs": [
    {
     "name": "stdout",
     "output_type": "stream",
     "text": [
      "[0.96, 0.9533333333333334, 0.9666666666666666, 0.9666666666666666, 0.9666666666666668, 0.9666666666666668, 0.9666666666666668, 0.9666666666666668, 0.9733333333333334, 0.9666666666666668, 0.9666666666666668, 0.9733333333333334, 0.9800000000000001, 0.9733333333333334, 0.9733333333333334, 0.9733333333333334, 0.9733333333333334, 0.9800000000000001, 0.9733333333333334, 0.9800000000000001, 0.9666666666666666, 0.9666666666666666, 0.9733333333333334, 0.96, 0.9666666666666666, 0.96, 0.9666666666666666, 0.9533333333333334, 0.9533333333333334, 0.9533333333333334]\n"
     ]
    }
   ],
   "source": [
    "# Αναζήτηση βέλτιστης παραμέτρου με βάση το accuracy score\n",
    "k_range = list(range(1, 31))\n",
    "k_scores = []\n",
    "for k in k_range:\n",
    "    knn = KNeighborsClassifier(n_neighbors=k)\n",
    "    scores = cross_val_score(knn, X, y, cv=10, scoring='accuracy')\n",
    "    k_scores.append(scores.mean())\n",
    "print(k_scores)"
   ]
  },
  {
   "cell_type": "code",
   "execution_count": 35,
   "metadata": {},
   "outputs": [
    {
     "data": {
      "text/plain": [
       "Text(0, 0.5, 'Accuracy')"
      ]
     },
     "execution_count": 35,
     "metadata": {},
     "output_type": "execute_result"
    },
    {
     "data": {
      "image/png": "[encoded data removed]",
      "text/plain": [
       "<Figure size 432x288 with 1 Axes>"
      ]
     },
     "metadata": {
      "needs_background": "light"
     },
     "output_type": "display_data"
    }
   ],
   "source": [
    "import matplotlib.pyplot as plt\n",
    "%matplotlib inline\n",
    "\n",
    "# plot the value of K for KNN (x-axis) versus the cross-validated accuracy (y-axis)\n",
    "plt.plot(k_range, k_scores)\n",
    "plt.xlabel('Τιμή Κ για ΚΝΝ')\n",
    "plt.ylabel('Accuracy')"
   ]
  },
  {
   "cell_type": "markdown",
   "metadata": {},
   "source": [
    "#### Τρόπος 2"
   ]
  },
  {
   "cell_type": "markdown",
   "metadata": {},
   "source": [
    "Με [GridSearchCV](https://scikit-learn.org/stable/modules/generated/sklearn.model_selection.GridSearchCV.html), όπου γίνεται μια αναζήτηση στο grid παραμέτρων με βάση το Cross-Validation"
   ]
  },
  {
   "cell_type": "code",
   "execution_count": 36,
   "metadata": {},
   "outputs": [],
   "source": [
    "#Εισαγωγή της κλάσης GridsearchCV\n",
    "from sklearn.model_selection import GridSearchCV"
   ]
  },
  {
   "cell_type": "code",
   "execution_count": 37,
   "metadata": {},
   "outputs": [
    {
     "name": "stdout",
     "output_type": "stream",
     "text": [
      "[1, 2, 3, 4, 5, 6, 7, 8, 9, 10, 11, 12, 13, 14, 15, 16, 17, 18, 19, 20, 21, 22, 23, 24, 25, 26, 27, 28, 29, 30]\n"
     ]
    }
   ],
   "source": [
    "# Ορισμός παραμέτρων\n",
    "k_range = list(range(1, 31))\n",
    "print(k_range)"
   ]
  },
  {
   "cell_type": "code",
   "execution_count": 38,
   "metadata": {},
   "outputs": [
    {
     "name": "stdout",
     "output_type": "stream",
     "text": [
      "{'n_neighbors': [1, 2, 3, 4, 5, 6, 7, 8, 9, 10, 11, 12, 13, 14, 15, 16, 17, 18, 19, 20, 21, 22, 23, 24, 25, 26, 27, 28, 29, 30]}\n"
     ]
    }
   ],
   "source": [
    "# Δημιουργία του grid Παραμέτρων\n",
    "param_grid = dict(n_neighbors=k_range)\n",
    "print(param_grid)"
   ]
  },
  {
   "cell_type": "code",
   "execution_count": 39,
   "metadata": {},
   "outputs": [
    {
     "data": {
      "text/plain": [
       "GridSearchCV(cv=10, error_score='raise-deprecating',\n",
       "       estimator=KNeighborsClassifier(algorithm='auto', leaf_size=30, metric='minkowski',\n",
       "           metric_params=None, n_jobs=None, n_neighbors=30, p=2,\n",
       "           weights='uniform'),\n",
       "       fit_params=None, iid='warn', n_jobs=None,\n",
       "       param_grid={'n_neighbors': [1, 2, 3, 4, 5, 6, 7, 8, 9, 10, 11, 12, 13, 14, 15, 16, 17, 18, 19, 20, 21, 22, 23, 24, 25, 26, 27, 28, 29, 30]},\n",
       "       pre_dispatch='2*n_jobs', refit=True, return_train_score=False,\n",
       "       scoring='accuracy', verbose=0)"
      ]
     },
     "execution_count": 39,
     "metadata": {},
     "output_type": "execute_result"
    }
   ],
   "source": [
    "# Ορίζουμε το grid\n",
    "grid = GridSearchCV(knn, param_grid, cv=10, scoring='accuracy', return_train_score=False)\n",
    "# Εκπαίδευση του grid με τα δεδομένα\n",
    "grid.fit(X, y)"
   ]
  },
  {
   "cell_type": "code",
   "execution_count": 40,
   "metadata": {},
   "outputs": [
    {
     "data": {
      "text/plain": [
       "Text(0, 0.5, ' Accuracy')"
      ]
     },
     "execution_count": 40,
     "metadata": {},
     "output_type": "execute_result"
    },
    {
     "data": {
      "image/png": "[encoded data removed]",
      "text/plain": [
       "<Figure size 432x288 with 1 Axes>"
      ]
     },
     "metadata": {
      "needs_background": "light"
     },
     "output_type": "display_data"
    }
   ],
   "source": [
    "# Εμφάνιση των μέσων τιμ΄ών\n",
    "grid_mean_scores = grid.cv_results_['mean_test_score']\n",
    "plt.plot(k_range, grid_mean_scores)\n",
    "plt.xlabel('Τιμή για ΚΝΝ')\n",
    "plt.ylabel(' Accuracy')"
   ]
  },
  {
   "cell_type": "code",
   "execution_count": 41,
   "metadata": {},
   "outputs": [
    {
     "name": "stdout",
     "output_type": "stream",
     "text": [
      "0.98\n",
      "{'n_neighbors': 13}\n",
      "KNeighborsClassifier(algorithm='auto', leaf_size=30, metric='minkowski',\n",
      "           metric_params=None, n_jobs=None, n_neighbors=13, p=2,\n",
      "           weights='uniform')\n"
     ]
    }
   ],
   "source": [
    "# Εμφάνιση των βέλτιστων παραμέτρων\n",
    "print(grid.best_score_)\n",
    "print(grid.best_params_)\n",
    "print(grid.best_estimator_)"
   ]
  },
  {
   "cell_type": "markdown",
   "metadata": {},
   "source": [
    "## Resources\n",
    "\n",
    "\n",
    "- Βιβλίο: [An Introduction to Statistical Learning](http://www-bcf.usc.edu/~gareth/ISL/) \n",
    "- Βιβλίο: [Εισαγωγή στην Υπολογιστική Νοημοσύνη](http://iiwm.teikav.edu.gr/iinew/wp-content/uploads/2015/10/CIbook_02.pdf) (Καμπουρλάζος-Παπακώστας)\n",
    " \n",
    "### Python:\n",
    "- Documentation [Python]( https://www.python.org/)\n",
    "- Documentation [Scikit-Learn ]( https://scikit-learn.org/stable/)\n",
    "- [Codecademy's Python course](https://www.codecademy.com/learn/learn-python):Βασισμένο σε Browser, με ασκήσεις\n",
    "- [DataQuest](https://www.dataquest.io/): Βασισμένο σε Browser, για data science\n",
    "- [Google's Python class](https://developers.google.com/edu/python/): Εμπεριέχει ασκήσεις με λύσεις και βίντεο\n",
    "- [Python for Everybody](https://www.py4e.com/): Για αρχάριους, εμπεριέχει βίντεο και διαφάνειες\n",
    "- [Machine learning in Python with scikit-learn](https://www.youtube.com/playlist?list=PL5-da3qGB5ICeMbQuqbbCOQWcS6OYBr5A) από [Data School](http://www.dataschool.io/) : Βίντεο με αρχεία Jupyter\n",
    "\n",
    "###  Jupyter :\n",
    "\n",
    "- [nbviewer](http://nbviewer.jupyter.org/): Απεικόνιση Notebooks\n",
    "- [Jupyter Notebook quickstart](http://jupyter.readthedocs.io/en/latest/content-quickstart.html)\n",
    "- [GitHub's Mastering Markdown](https://guides.github.com/features/mastering-markdown/): παραδείγματα\n"
   ]
  }
 ],
 "metadata": {
  "kernelspec": {
   "display_name": "Python 3",
   "language": "python",
   "name": "python3"
  },
  "language_info": {
   "codemirror_mode": {
    "name": "ipython",
    "version": 3
   },
   "file_extension": ".py",
   "mimetype": "text/x-python",
   "name": "python",
   "nbconvert_exporter": "python",
   "pygments_lexer": "ipython3",
   "version": "3.6.6"
  }
 },
 "nbformat": 4,
 "nbformat_minor": 2
}
